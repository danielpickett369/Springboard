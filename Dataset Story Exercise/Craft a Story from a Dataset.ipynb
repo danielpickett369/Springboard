{
 "cells": [
  {
   "cell_type": "markdown",
   "metadata": {},
   "source": [
    "## Overview<a id='Overview'></a>"
   ]
  },
  {
   "cell_type": "markdown",
   "metadata": {},
   "source": [
    "In the United States, dog bites are often reported to law enforcement with the concern that the dog may be rabid. Here we are provided with a dataset of approximately 9,000 recorded dog bites occurring between 1985 and 2017 near Louisville, Kentucky. The data includes fields such as dog breed, dog gender, vaccination history, and actions taken (if any) to determine whether the dog was rabid."
   ]
  },
  {
   "cell_type": "code",
   "execution_count": 73,
   "metadata": {},
   "outputs": [],
   "source": [
    "import os\n",
    "import numpy as np\n",
    "import pandas as pd\n",
    "import matplotlib.pyplot as plt\n",
    "import seaborn as sns\n",
    "\n",
    "from statsmodels.stats.proportion import proportions_ztest"
   ]
  },
  {
   "cell_type": "code",
   "execution_count": 2,
   "metadata": {},
   "outputs": [],
   "source": [
    "bite_data = pd.read_csv('Health_AnimalBites.csv')"
   ]
  },
  {
   "cell_type": "code",
   "execution_count": 3,
   "metadata": {},
   "outputs": [
    {
     "data": {
      "text/html": [
       "<div>\n",
       "<style scoped>\n",
       "    .dataframe tbody tr th:only-of-type {\n",
       "        vertical-align: middle;\n",
       "    }\n",
       "\n",
       "    .dataframe tbody tr th {\n",
       "        vertical-align: top;\n",
       "    }\n",
       "\n",
       "    .dataframe thead th {\n",
       "        text-align: right;\n",
       "    }\n",
       "</style>\n",
       "<table border=\"1\" class=\"dataframe\">\n",
       "  <thead>\n",
       "    <tr style=\"text-align: right;\">\n",
       "      <th></th>\n",
       "      <th>bite_date</th>\n",
       "      <th>SpeciesIDDesc</th>\n",
       "      <th>BreedIDDesc</th>\n",
       "      <th>GenderIDDesc</th>\n",
       "      <th>color</th>\n",
       "      <th>vaccination_yrs</th>\n",
       "      <th>vaccination_date</th>\n",
       "      <th>victim_zip</th>\n",
       "      <th>AdvIssuedYNDesc</th>\n",
       "      <th>WhereBittenIDDesc</th>\n",
       "      <th>quarantine_date</th>\n",
       "      <th>DispositionIDDesc</th>\n",
       "      <th>head_sent_date</th>\n",
       "      <th>release_date</th>\n",
       "      <th>ResultsIDDesc</th>\n",
       "    </tr>\n",
       "  </thead>\n",
       "  <tbody>\n",
       "    <tr>\n",
       "      <th>0</th>\n",
       "      <td>1985-05-05 00:00:00</td>\n",
       "      <td>DOG</td>\n",
       "      <td>NaN</td>\n",
       "      <td>FEMALE</td>\n",
       "      <td>LIG. BROWN</td>\n",
       "      <td>1.0</td>\n",
       "      <td>1985-06-20 00:00:00</td>\n",
       "      <td>40229</td>\n",
       "      <td>NO</td>\n",
       "      <td>BODY</td>\n",
       "      <td>1985-05-05 00:00:00</td>\n",
       "      <td>UNKNOWN</td>\n",
       "      <td>NaN</td>\n",
       "      <td>NaN</td>\n",
       "      <td>UNKNOWN</td>\n",
       "    </tr>\n",
       "    <tr>\n",
       "      <th>1</th>\n",
       "      <td>1986-02-12 00:00:00</td>\n",
       "      <td>DOG</td>\n",
       "      <td>NaN</td>\n",
       "      <td>UNKNOWN</td>\n",
       "      <td>BRO &amp; BLA</td>\n",
       "      <td>NaN</td>\n",
       "      <td>NaN</td>\n",
       "      <td>40218</td>\n",
       "      <td>NO</td>\n",
       "      <td>BODY</td>\n",
       "      <td>1986-02-12 00:00:00</td>\n",
       "      <td>UNKNOWN</td>\n",
       "      <td>NaN</td>\n",
       "      <td>NaN</td>\n",
       "      <td>UNKNOWN</td>\n",
       "    </tr>\n",
       "    <tr>\n",
       "      <th>2</th>\n",
       "      <td>1987-05-07 00:00:00</td>\n",
       "      <td>DOG</td>\n",
       "      <td>NaN</td>\n",
       "      <td>UNKNOWN</td>\n",
       "      <td>NaN</td>\n",
       "      <td>NaN</td>\n",
       "      <td>NaN</td>\n",
       "      <td>40219</td>\n",
       "      <td>NO</td>\n",
       "      <td>BODY</td>\n",
       "      <td>1990-05-07 00:00:00</td>\n",
       "      <td>UNKNOWN</td>\n",
       "      <td>NaN</td>\n",
       "      <td>NaN</td>\n",
       "      <td>UNKNOWN</td>\n",
       "    </tr>\n",
       "    <tr>\n",
       "      <th>3</th>\n",
       "      <td>1988-10-02 00:00:00</td>\n",
       "      <td>DOG</td>\n",
       "      <td>NaN</td>\n",
       "      <td>MALE</td>\n",
       "      <td>BLA &amp; BRO</td>\n",
       "      <td>NaN</td>\n",
       "      <td>NaN</td>\n",
       "      <td>NaN</td>\n",
       "      <td>NO</td>\n",
       "      <td>BODY</td>\n",
       "      <td>1990-10-02 00:00:00</td>\n",
       "      <td>UNKNOWN</td>\n",
       "      <td>NaN</td>\n",
       "      <td>NaN</td>\n",
       "      <td>UNKNOWN</td>\n",
       "    </tr>\n",
       "    <tr>\n",
       "      <th>4</th>\n",
       "      <td>1989-08-29 00:00:00</td>\n",
       "      <td>DOG</td>\n",
       "      <td>NaN</td>\n",
       "      <td>FEMALE</td>\n",
       "      <td>BLK-WHT</td>\n",
       "      <td>NaN</td>\n",
       "      <td>NaN</td>\n",
       "      <td>NaN</td>\n",
       "      <td>NO</td>\n",
       "      <td>BODY</td>\n",
       "      <td>NaN</td>\n",
       "      <td>UNKNOWN</td>\n",
       "      <td>NaN</td>\n",
       "      <td>NaN</td>\n",
       "      <td>UNKNOWN</td>\n",
       "    </tr>\n",
       "    <tr>\n",
       "      <th>...</th>\n",
       "      <td>...</td>\n",
       "      <td>...</td>\n",
       "      <td>...</td>\n",
       "      <td>...</td>\n",
       "      <td>...</td>\n",
       "      <td>...</td>\n",
       "      <td>...</td>\n",
       "      <td>...</td>\n",
       "      <td>...</td>\n",
       "      <td>...</td>\n",
       "      <td>...</td>\n",
       "      <td>...</td>\n",
       "      <td>...</td>\n",
       "      <td>...</td>\n",
       "      <td>...</td>\n",
       "    </tr>\n",
       "    <tr>\n",
       "      <th>8998</th>\n",
       "      <td>2017-09-05 00:00:00</td>\n",
       "      <td>DOG</td>\n",
       "      <td>NaN</td>\n",
       "      <td>NaN</td>\n",
       "      <td>NaN</td>\n",
       "      <td>NaN</td>\n",
       "      <td>NaN</td>\n",
       "      <td>40243</td>\n",
       "      <td>NaN</td>\n",
       "      <td>UNKNOWN</td>\n",
       "      <td>NaN</td>\n",
       "      <td>NaN</td>\n",
       "      <td>NaN</td>\n",
       "      <td>NaN</td>\n",
       "      <td>NaN</td>\n",
       "    </tr>\n",
       "    <tr>\n",
       "      <th>8999</th>\n",
       "      <td>2017-09-07 00:00:00</td>\n",
       "      <td>DOG</td>\n",
       "      <td>POMERANIAN</td>\n",
       "      <td>MALE</td>\n",
       "      <td>RED</td>\n",
       "      <td>NaN</td>\n",
       "      <td>NaN</td>\n",
       "      <td>40204</td>\n",
       "      <td>NaN</td>\n",
       "      <td>HEAD</td>\n",
       "      <td>NaN</td>\n",
       "      <td>NaN</td>\n",
       "      <td>NaN</td>\n",
       "      <td>NaN</td>\n",
       "      <td>NaN</td>\n",
       "    </tr>\n",
       "    <tr>\n",
       "      <th>9000</th>\n",
       "      <td>2017-09-07 00:00:00</td>\n",
       "      <td>DOG</td>\n",
       "      <td>LABRADOR RETRIV</td>\n",
       "      <td>MALE</td>\n",
       "      <td>BROWN</td>\n",
       "      <td>NaN</td>\n",
       "      <td>NaN</td>\n",
       "      <td>47130</td>\n",
       "      <td>NaN</td>\n",
       "      <td>UNKNOWN</td>\n",
       "      <td>NaN</td>\n",
       "      <td>NaN</td>\n",
       "      <td>NaN</td>\n",
       "      <td>NaN</td>\n",
       "      <td>NaN</td>\n",
       "    </tr>\n",
       "    <tr>\n",
       "      <th>9001</th>\n",
       "      <td>2017-09-07 00:00:00</td>\n",
       "      <td>DOG</td>\n",
       "      <td>LABRADOR RETRIV</td>\n",
       "      <td>FEMALE</td>\n",
       "      <td>BLK WHT</td>\n",
       "      <td>NaN</td>\n",
       "      <td>NaN</td>\n",
       "      <td>40229</td>\n",
       "      <td>NaN</td>\n",
       "      <td>BODY</td>\n",
       "      <td>NaN</td>\n",
       "      <td>NaN</td>\n",
       "      <td>NaN</td>\n",
       "      <td>NaN</td>\n",
       "      <td>NaN</td>\n",
       "    </tr>\n",
       "    <tr>\n",
       "      <th>9002</th>\n",
       "      <td>2017-09-07 00:00:00</td>\n",
       "      <td>DOG</td>\n",
       "      <td>BOXER</td>\n",
       "      <td>NaN</td>\n",
       "      <td>BRN BLK</td>\n",
       "      <td>NaN</td>\n",
       "      <td>NaN</td>\n",
       "      <td>40229</td>\n",
       "      <td>NaN</td>\n",
       "      <td>BODY</td>\n",
       "      <td>NaN</td>\n",
       "      <td>NaN</td>\n",
       "      <td>NaN</td>\n",
       "      <td>NaN</td>\n",
       "      <td>NaN</td>\n",
       "    </tr>\n",
       "  </tbody>\n",
       "</table>\n",
       "<p>9003 rows × 15 columns</p>\n",
       "</div>"
      ],
      "text/plain": [
       "                bite_date SpeciesIDDesc      BreedIDDesc GenderIDDesc  \\\n",
       "0     1985-05-05 00:00:00           DOG              NaN       FEMALE   \n",
       "1     1986-02-12 00:00:00           DOG              NaN      UNKNOWN   \n",
       "2     1987-05-07 00:00:00           DOG              NaN      UNKNOWN   \n",
       "3     1988-10-02 00:00:00           DOG              NaN         MALE   \n",
       "4     1989-08-29 00:00:00           DOG              NaN       FEMALE   \n",
       "...                   ...           ...              ...          ...   \n",
       "8998  2017-09-05 00:00:00           DOG              NaN          NaN   \n",
       "8999  2017-09-07 00:00:00           DOG       POMERANIAN         MALE   \n",
       "9000  2017-09-07 00:00:00           DOG  LABRADOR RETRIV         MALE   \n",
       "9001  2017-09-07 00:00:00           DOG  LABRADOR RETRIV       FEMALE   \n",
       "9002  2017-09-07 00:00:00           DOG            BOXER          NaN   \n",
       "\n",
       "           color  vaccination_yrs     vaccination_date victim_zip  \\\n",
       "0     LIG. BROWN              1.0  1985-06-20 00:00:00      40229   \n",
       "1      BRO & BLA              NaN                  NaN      40218   \n",
       "2            NaN              NaN                  NaN      40219   \n",
       "3      BLA & BRO              NaN                  NaN        NaN   \n",
       "4        BLK-WHT              NaN                  NaN        NaN   \n",
       "...          ...              ...                  ...        ...   \n",
       "8998         NaN              NaN                  NaN      40243   \n",
       "8999         RED              NaN                  NaN      40204   \n",
       "9000       BROWN              NaN                  NaN      47130   \n",
       "9001     BLK WHT              NaN                  NaN      40229   \n",
       "9002     BRN BLK              NaN                  NaN      40229   \n",
       "\n",
       "     AdvIssuedYNDesc WhereBittenIDDesc      quarantine_date DispositionIDDesc  \\\n",
       "0                 NO              BODY  1985-05-05 00:00:00           UNKNOWN   \n",
       "1                 NO              BODY  1986-02-12 00:00:00           UNKNOWN   \n",
       "2                 NO              BODY  1990-05-07 00:00:00           UNKNOWN   \n",
       "3                 NO              BODY  1990-10-02 00:00:00           UNKNOWN   \n",
       "4                 NO              BODY                  NaN           UNKNOWN   \n",
       "...              ...               ...                  ...               ...   \n",
       "8998             NaN           UNKNOWN                  NaN               NaN   \n",
       "8999             NaN              HEAD                  NaN               NaN   \n",
       "9000             NaN           UNKNOWN                  NaN               NaN   \n",
       "9001             NaN              BODY                  NaN               NaN   \n",
       "9002             NaN              BODY                  NaN               NaN   \n",
       "\n",
       "     head_sent_date release_date ResultsIDDesc  \n",
       "0               NaN          NaN       UNKNOWN  \n",
       "1               NaN          NaN       UNKNOWN  \n",
       "2               NaN          NaN       UNKNOWN  \n",
       "3               NaN          NaN       UNKNOWN  \n",
       "4               NaN          NaN       UNKNOWN  \n",
       "...             ...          ...           ...  \n",
       "8998            NaN          NaN           NaN  \n",
       "8999            NaN          NaN           NaN  \n",
       "9000            NaN          NaN           NaN  \n",
       "9001            NaN          NaN           NaN  \n",
       "9002            NaN          NaN           NaN  \n",
       "\n",
       "[9003 rows x 15 columns]"
      ]
     },
     "execution_count": 3,
     "metadata": {},
     "output_type": "execute_result"
    }
   ],
   "source": [
    "bite_data"
   ]
  },
  {
   "cell_type": "markdown",
   "metadata": {},
   "source": [
    "__Key__:\n",
    "\n",
    " - bite_date: The date the bite occurred\n",
    " - SpeciesIDDesc: The species of animal that did the biting\n",
    " - BreedIDDesc: Breed (if known)\n",
    " - GenderIDDesc: Gender (of the animal)\n",
    " - color: color of the animal\n",
    " - vaccination_yrs: how many years had passed since the last vaccination\n",
    " - vaccination_date: the date of the last vaccination\n",
    " - victim_zip: the zipcode of the victim\n",
    " - AdvIssuedYNDesc: whether advice was issued\n",
    " - WhereBittenIDDesc: Where on the body the victim was bitten\n",
    " - quarantine_date: whether the animal was quarantined\n",
    " - DispositionIDDesc: whether the animal was released from quarantine\n",
    " - headsentdate: the date the animal’s head was sent to the lab\n",
    " - release_date: the date the animal was released\n",
    " - ResultsIDDesc: results from lab tests (for rabies)"
   ]
  },
  {
   "cell_type": "markdown",
   "metadata": {},
   "source": [
    "## Initial Analysis<a id='Initial Analysis'></a>"
   ]
  },
  {
   "cell_type": "markdown",
   "metadata": {},
   "source": [
    "Let's take a look at some basic summaries of the data."
   ]
  },
  {
   "cell_type": "code",
   "execution_count": 4,
   "metadata": {},
   "outputs": [
    {
     "name": "stdout",
     "output_type": "stream",
     "text": [
      "<class 'pandas.core.frame.DataFrame'>\n",
      "RangeIndex: 9003 entries, 0 to 9002\n",
      "Data columns (total 15 columns):\n",
      " #   Column             Non-Null Count  Dtype  \n",
      "---  ------             --------------  -----  \n",
      " 0   bite_date          8686 non-null   object \n",
      " 1   SpeciesIDDesc      8885 non-null   object \n",
      " 2   BreedIDDesc        3759 non-null   object \n",
      " 3   GenderIDDesc       6477 non-null   object \n",
      " 4   color              6426 non-null   object \n",
      " 5   vaccination_yrs    3738 non-null   float64\n",
      " 6   vaccination_date   4115 non-null   object \n",
      " 7   victim_zip         7165 non-null   object \n",
      " 8   AdvIssuedYNDesc    2565 non-null   object \n",
      " 9   WhereBittenIDDesc  8387 non-null   object \n",
      " 10  quarantine_date    2020 non-null   object \n",
      " 11  DispositionIDDesc  1535 non-null   object \n",
      " 12  head_sent_date     395 non-null    object \n",
      " 13  release_date       1445 non-null   object \n",
      " 14  ResultsIDDesc      1543 non-null   object \n",
      "dtypes: float64(1), object(14)\n",
      "memory usage: 1.0+ MB\n"
     ]
    }
   ],
   "source": [
    "bite_data.info()"
   ]
  },
  {
   "cell_type": "code",
   "execution_count": 5,
   "metadata": {},
   "outputs": [
    {
     "data": {
      "text/html": [
       "<div>\n",
       "<style scoped>\n",
       "    .dataframe tbody tr th:only-of-type {\n",
       "        vertical-align: middle;\n",
       "    }\n",
       "\n",
       "    .dataframe tbody tr th {\n",
       "        vertical-align: top;\n",
       "    }\n",
       "\n",
       "    .dataframe thead th {\n",
       "        text-align: right;\n",
       "    }\n",
       "</style>\n",
       "<table border=\"1\" class=\"dataframe\">\n",
       "  <thead>\n",
       "    <tr style=\"text-align: right;\">\n",
       "      <th></th>\n",
       "      <th>vaccination_yrs</th>\n",
       "    </tr>\n",
       "  </thead>\n",
       "  <tbody>\n",
       "    <tr>\n",
       "      <th>count</th>\n",
       "      <td>3738.000000</td>\n",
       "    </tr>\n",
       "    <tr>\n",
       "      <th>mean</th>\n",
       "      <td>1.452113</td>\n",
       "    </tr>\n",
       "    <tr>\n",
       "      <th>std</th>\n",
       "      <td>0.848416</td>\n",
       "    </tr>\n",
       "    <tr>\n",
       "      <th>min</th>\n",
       "      <td>1.000000</td>\n",
       "    </tr>\n",
       "    <tr>\n",
       "      <th>25%</th>\n",
       "      <td>1.000000</td>\n",
       "    </tr>\n",
       "    <tr>\n",
       "      <th>50%</th>\n",
       "      <td>1.000000</td>\n",
       "    </tr>\n",
       "    <tr>\n",
       "      <th>75%</th>\n",
       "      <td>1.000000</td>\n",
       "    </tr>\n",
       "    <tr>\n",
       "      <th>max</th>\n",
       "      <td>11.000000</td>\n",
       "    </tr>\n",
       "  </tbody>\n",
       "</table>\n",
       "</div>"
      ],
      "text/plain": [
       "       vaccination_yrs\n",
       "count      3738.000000\n",
       "mean          1.452113\n",
       "std           0.848416\n",
       "min           1.000000\n",
       "25%           1.000000\n",
       "50%           1.000000\n",
       "75%           1.000000\n",
       "max          11.000000"
      ]
     },
     "execution_count": 5,
     "metadata": {},
     "output_type": "execute_result"
    }
   ],
   "source": [
    "bite_data.describe()"
   ]
  },
  {
   "cell_type": "code",
   "execution_count": 13,
   "metadata": {},
   "outputs": [
    {
     "data": {
      "image/png": "[encoded data removed]",
      "text/plain": [
       "<Figure size 864x648 with 1 Axes>"
      ]
     },
     "metadata": {
      "needs_background": "light"
     },
     "output_type": "display_data"
    }
   ],
   "source": [
    "f, ax = plt.subplots(figsize = (12, 9))\n",
    "bite_data_breed_counts = bite_data['BreedIDDesc'].value_counts()[:10].plot(kind = 'bar')\n",
    "plt.xlabel('Breed of Dog', fontsize = 14)\n",
    "plt.ylabel('Count', fontsize = 14)\n",
    "plt.bar_label(bite_data_breed_counts.containers[0])\n",
    "plt.title('Counts of Registered Dog Bites per Breed', fontsize = 18)\n",
    "plt.xticks(rotation = 45)\n",
    "plt.show()"
   ]
  },
  {
   "cell_type": "code",
   "execution_count": 14,
   "metadata": {},
   "outputs": [
    {
     "data": {
      "image/png": "[encoded data removed]",
      "text/plain": [
       "<Figure size 864x648 with 1 Axes>"
      ]
     },
     "metadata": {
      "needs_background": "light"
     },
     "output_type": "display_data"
    }
   ],
   "source": [
    "f, ax = plt.subplots(figsize = (12, 9))\n",
    "bite_data_gender_counts = bite_data['GenderIDDesc'].value_counts().plot(kind = 'bar')\n",
    "plt.xlabel('Gender of Dog', fontsize = 14)\n",
    "plt.ylabel('Count', fontsize = 14)\n",
    "plt.bar_label(bite_data_gender_counts.containers[0])\n",
    "plt.title('Counts of Registered Dog Bites per Gender', fontsize = 18)\n",
    "plt.xticks(rotation = 45)\n",
    "plt.show()"
   ]
  },
  {
   "cell_type": "code",
   "execution_count": 15,
   "metadata": {},
   "outputs": [
    {
     "data": {
      "image/png": "[encoded data removed]",
      "text/plain": [
       "<Figure size 864x648 with 1 Axes>"
      ]
     },
     "metadata": {
      "needs_background": "light"
     },
     "output_type": "display_data"
    }
   ],
   "source": [
    "f, ax = plt.subplots(figsize = (12, 9))\n",
    "bite_data_wherebitten_counts = bite_data['WhereBittenIDDesc'].value_counts().plot(kind = 'bar')\n",
    "plt.xlabel('Where Victim Was Bitten', fontsize = 14)\n",
    "plt.ylabel('Count', fontsize = 14)\n",
    "plt.bar_label(bite_data_wherebitten_counts.containers[0])\n",
    "plt.title('Counts of Locations on Victim Where Dog Bites Occurred', fontsize = 18)\n",
    "plt.xticks(rotation = 45)\n",
    "plt.show()"
   ]
  },
  {
   "cell_type": "code",
   "execution_count": 16,
   "metadata": {},
   "outputs": [
    {
     "data": {
      "image/png": "[encoded data removed]",
      "text/plain": [
       "<Figure size 864x648 with 1 Axes>"
      ]
     },
     "metadata": {
      "needs_background": "light"
     },
     "output_type": "display_data"
    }
   ],
   "source": [
    "f, ax = plt.subplots(figsize = (12, 9))\n",
    "bite_data_rabid_counts = bite_data['ResultsIDDesc'].value_counts().plot(kind = 'bar')\n",
    "plt.xlabel('Rabies Test Result', fontsize = 14)\n",
    "plt.ylabel('Count', fontsize = 14)\n",
    "plt.bar_label(bite_data_rabid_counts.containers[0])\n",
    "plt.title('Counts of Rabies Test Results from Dog Bites', fontsize = 18)\n",
    "plt.xticks(rotation = 45)\n",
    "plt.show()"
   ]
  },
  {
   "cell_type": "markdown",
   "metadata": {},
   "source": [
    "__Things to note__:\n",
    "\n",
    " - Most of the features are either dates or categorical. It would be difficult to determine any numerical patterns or correlations from this data.\n",
    " - All of the features have a degree of missing data, either with NaN or some other indicator, with some of them missing more data than they actually have. This is of course more expected with real-world data.\n",
    " - The feature expected to be the dependent variable, ResultsIDDesc, which provides the result of whether the dog was rabid, is sparsely populated and only contains 4 positive results. This therefore may not be the best feature to use to glean information from the dataset.\n",
    " - We see that males tend to bite more than females. This is consistent with what we know about animal gender tendencies in nature.\n",
    " - __We see that most bites were done on the body.__ This is likely because the body is easier to reach by a dog than the head. However, given a choice in the situation, would a dog prefer to bite at the head? That is, if a dog is more able (taller or more powerful back legs, for example), to bite at the head, will it deliberately do so, implying it is more aggressive?\n",
    " - __We see that pit bulls have a much higher count as the breed of dog than any other dog.__ In the United States, pit bulls have a reputation for being more aggressive than most other breeds of household dogs - it is a point of contention whether they should be allowed as pets."
   ]
  },
  {
   "cell_type": "markdown",
   "metadata": {},
   "source": [
    "## In-Depth Analysis<a id='In-Depth Analysis'></a>"
   ]
  },
  {
   "cell_type": "markdown",
   "metadata": {},
   "source": [
    "Based on the state of the data we have been provided, we could attempt to determine more insight into the aggression of pit bulls, by determining if they are responsible for significantly more bites than other breeds, and in what ways.\n",
    "\n",
    "We first isolate the few features that would be useful for this analysis. We then clean up these features, primarily by standardizing their placeholders for missing values, and then exclude any records with missing values."
   ]
  },
  {
   "cell_type": "code",
   "execution_count": 85,
   "metadata": {},
   "outputs": [
    {
     "name": "stderr",
     "output_type": "stream",
     "text": [
      "C:\\Users\\Dan\\AppData\\Local\\Temp\\ipykernel_16400\\4111978193.py:2: SettingWithCopyWarning: \n",
      "A value is trying to be set on a copy of a slice from a DataFrame.\n",
      "Try using .loc[row_indexer,col_indexer] = value instead\n",
      "\n",
      "See the caveats in the documentation: https://pandas.pydata.org/pandas-docs/stable/user_guide/indexing.html#returning-a-view-versus-a-copy\n",
      "  bite_data_cleaned['BreedIDDesc'] = bite_data_cleaned['BreedIDDesc'].replace(np.nan, 'OTHER')\n",
      "C:\\Users\\Dan\\AppData\\Local\\Temp\\ipykernel_16400\\4111978193.py:3: SettingWithCopyWarning: \n",
      "A value is trying to be set on a copy of a slice from a DataFrame.\n",
      "Try using .loc[row_indexer,col_indexer] = value instead\n",
      "\n",
      "See the caveats in the documentation: https://pandas.pydata.org/pandas-docs/stable/user_guide/indexing.html#returning-a-view-versus-a-copy\n",
      "  bite_data_cleaned['GenderIDDesc'] = bite_data_cleaned['GenderIDDesc'].replace(np.nan, 'UNKNOWN')\n",
      "C:\\Users\\Dan\\AppData\\Local\\Temp\\ipykernel_16400\\4111978193.py:4: SettingWithCopyWarning: \n",
      "A value is trying to be set on a copy of a slice from a DataFrame.\n",
      "Try using .loc[row_indexer,col_indexer] = value instead\n",
      "\n",
      "See the caveats in the documentation: https://pandas.pydata.org/pandas-docs/stable/user_guide/indexing.html#returning-a-view-versus-a-copy\n",
      "  bite_data_cleaned['WhereBittenIDDesc'] = bite_data_cleaned['WhereBittenIDDesc'].replace(np.nan, 'UNKNOWN')\n"
     ]
    }
   ],
   "source": [
    "bite_data_cleaned = bite_data[['BreedIDDesc', 'GenderIDDesc', 'WhereBittenIDDesc']]\n",
    "bite_data_cleaned['BreedIDDesc'] = bite_data_cleaned['BreedIDDesc'].replace(np.nan, 'OTHER')\n",
    "bite_data_cleaned['GenderIDDesc'] = bite_data_cleaned['GenderIDDesc'].replace(np.nan, 'UNKNOWN')\n",
    "bite_data_cleaned['WhereBittenIDDesc'] = bite_data_cleaned['WhereBittenIDDesc'].replace(np.nan, 'UNKNOWN')\n",
    "bite_data_cleaned = bite_data_cleaned[(bite_data_cleaned['BreedIDDesc'] != 'OTHER') & (bite_data_cleaned['GenderIDDesc'] != 'UNKNOWN') & (bite_data_cleaned['WhereBittenIDDesc'] != 'UNKNOWN')]"
   ]
  },
  {
   "cell_type": "code",
   "execution_count": 86,
   "metadata": {},
   "outputs": [
    {
     "name": "stdout",
     "output_type": "stream",
     "text": [
      "<class 'pandas.core.frame.DataFrame'>\n",
      "Int64Index: 2588 entries, 1202 to 9001\n",
      "Data columns (total 3 columns):\n",
      " #   Column             Non-Null Count  Dtype \n",
      "---  ------             --------------  ----- \n",
      " 0   BreedIDDesc        2588 non-null   object\n",
      " 1   GenderIDDesc       2588 non-null   object\n",
      " 2   WhereBittenIDDesc  2588 non-null   object\n",
      "dtypes: object(3)\n",
      "memory usage: 80.9+ KB\n"
     ]
    }
   ],
   "source": [
    "bite_data_cleaned.info()"
   ]
  },
  {
   "cell_type": "markdown",
   "metadata": {},
   "source": [
    "__Question #1__: How do the number of attacks from pit bulls compare to those from any other breed?"
   ]
  },
  {
   "cell_type": "code",
   "execution_count": 64,
   "metadata": {},
   "outputs": [
    {
     "name": "stdout",
     "output_type": "stream",
     "text": [
      "Proportion of bites that were from pit bulls: 0.2848\n",
      "Proportion of bites that were from the breed with the second highest count: 0.0869\n"
     ]
    }
   ],
   "source": [
    "pit_bull_attacks = bite_data_cleaned[bite_data_cleaned['BreedIDDesc'] == 'PIT BULL']\n",
    "second_highest_attacks = bite_data_cleaned[bite_data_cleaned['BreedIDDesc'] == bite_data_cleaned['BreedIDDesc'].value_counts().index[1]]\n",
    "print('Proportion of bites that were from pit bulls: ' + str(round(len(pit_bull_attacks) / len(bite_data_cleaned), 4)))\n",
    "print('Proportion of bites that were from the breed with the second highest count: ' + str(round(len(second_highest_attacks) / len(bite_data_cleaned), 4)))"
   ]
  },
  {
   "cell_type": "markdown",
   "metadata": {},
   "source": [
    "Here we see that pit bulls make up 28.5% of the recorded dog bites (with known breed), while the breed with the second largest proportion of bites in the list, German Shepherds, only make up 8.7%. This is a flat difference of nearly 20%. Pit bulls almost certainly bite significantly more often than the other breeds... but we can verify this with some quick statistical tests."
   ]
  },
  {
   "cell_type": "code",
   "execution_count": 125,
   "metadata": {},
   "outputs": [
    {
     "name": "stdout",
     "output_type": "stream",
     "text": [
      "Under the null assumption that each breed delivers the same number of bites, the expected proportion of all bites that each breed would deliver is 0.0379. Below are the breeds that surpass this:\n",
      "\n",
      "Proportion of bites that were from PIT BULL: 0.2848\n",
      "Proportion of bites that were from GERM SHEPHERD: 0.0869\n",
      "Proportion of bites that were from LABRADOR RETRIV: 0.0653\n",
      "Proportion of bites that were from BOXER: 0.0522\n",
      "Proportion of bites that were from CHICHAUHUA: 0.046\n"
     ]
    }
   ],
   "source": [
    "all_breeds_prop_attacks = len(bite_data_cleaned['BreedIDDesc'].unique()) / len(bite_data_cleaned)\n",
    "\n",
    "print('Under the null assumption that each breed delivers the same number of bites, the expected proportion of all bites that each breed would deliver is ' + str(round(all_breeds_prop_attacks, 4)) + '. Below are the breeds that surpass this:\\n')\n",
    "for i in range(len(bite_data_cleaned['BreedIDDesc'].value_counts())):\n",
    "    breed_attacks = bite_data_cleaned[bite_data_cleaned['BreedIDDesc'] == bite_data_cleaned['BreedIDDesc'].value_counts().index[i]]\n",
    "    breed_attacks_prop = len(breed_attacks) / len(bite_data_cleaned)\n",
    "    if breed_attacks_prop < all_breeds_prop_attacks:\n",
    "        break\n",
    "    print('Proportion of bites that were from ' + bite_data_cleaned['BreedIDDesc'].value_counts().index[i] + ': ' + str(round(len(breed_attacks) / len(bite_data_cleaned), 4)))\n"
   ]
  },
  {
   "cell_type": "markdown",
   "metadata": {},
   "source": [
    "Here we set the null assumption that all breeds bite equally, and therefore have the same proportion of bites within this sample. Dividing the total number of recorded breeds by the total number of bites, we obtain an expected percentage of 3.8%. Out of 98 breeds in this dataset, only 5 surpass this percentage, and with the percentage of pit bull bites surpassing it by nearly 25%, it is clear that pit bull bites are heavily skewing the percentage upward."
   ]
  },
  {
   "cell_type": "code",
   "execution_count": 132,
   "metadata": {},
   "outputs": [
    {
     "name": "stdout",
     "output_type": "stream",
     "text": [
      "1-proportion z-test results for if the breed bites significantly more often than expected:\n",
      "\n",
      "For PIT BULL: The z-score is 27.8321 and the p-value is 0.0. With a significance level of 0.01, the breed DOES bite significantly more often than the expected proportion of 0.0379.\n",
      "For GERM SHEPHERD: The z-score is 8.8606 and the p-value is 0.0. With a significance level of 0.01, the breed DOES bite significantly more often than the expected proportion of 0.0379.\n",
      "For LABRADOR RETRIV: The z-score is 5.6491 and the p-value is 0.0. With a significance level of 0.01, the breed DOES bite significantly more often than the expected proportion of 0.0379.\n",
      "For BOXER: The z-score is 3.2709 and the p-value is 0.000536. With a significance level of 0.01, the breed DOES bite significantly more often than the expected proportion of 0.0379.\n",
      "For CHICHAUHUA: The z-score is 1.9709 and the p-value is 0.024367. With a significance level of 0.01, the breed does NOT bite significantly more often than the expected proportion of 0.0379.\n"
     ]
    }
   ],
   "source": [
    "alpha = .01\n",
    "\n",
    "print('1-proportion z-test results for if the breed bites significantly more often than expected:\\n')\n",
    "for i in range(len(bite_data_cleaned['BreedIDDesc'].value_counts())):\n",
    "    breed_attacks = bite_data_cleaned[bite_data_cleaned['BreedIDDesc'] == bite_data_cleaned['BreedIDDesc'].value_counts().index[i]]\n",
    "    breed_attacks_prop = len(breed_attacks) / len(bite_data_cleaned)\n",
    "    if breed_attacks_prop < all_breeds_prop_attacks:\n",
    "        break\n",
    "    stat_breed, pval_breed = proportions_ztest(len(breed_attacks), len(bite_data_cleaned), value = all_breeds_prop_attacks, alternative = 'larger')\n",
    "    if pval_breed < alpha:\n",
    "        print('For ' + bite_data_cleaned['BreedIDDesc'].value_counts().index[i] + ': The z-score is ' + str(round(stat_breed, 4)) + ' and the p-value is ' + str(round(pval_breed, 6)) + '. With a significance level of ' + str(alpha) + ', the breed DOES bite significantly more often than the expected proportion of ' + str(round(all_breeds_prop_attacks, 4)) + '.')\n",
    "    else:\n",
    "        print('For ' + bite_data_cleaned['BreedIDDesc'].value_counts().index[i] + ': The z-score is ' + str(round(stat_breed, 4)) + ' and the p-value is ' + str(round(pval_breed, 6)) + '. With a significance level of ' + str(alpha) + ', the breed does NOT bite significantly more often than the expected proportion of ' + str(round(all_breeds_prop_attacks, 4)) + '.')"
   ]
  },
  {
   "cell_type": "markdown",
   "metadata": {},
   "source": [
    "Here we run 1-proportion z-tests against the null hypothesis that each of these higher-than-average percentages are _significantly_ higher than the expected percentage. To ensure some sturdiness, we select a significance level of .01. With these assumptions, 4 out of 5 of the breeds (excluding the one with the lowest percentage, Chihuahuas) do seem to bite significantly higher than average."
   ]
  },
  {
   "cell_type": "code",
   "execution_count": 131,
   "metadata": {},
   "outputs": [
    {
     "name": "stdout",
     "output_type": "stream",
     "text": [
      "2-proportion z-test statistic for whether pit bulls bite more often than do the second bitiest breed (German shephards): 18.295\n",
      "2-proportion z-test p-value for whether pit bulls bite more often than do the second bitiest breed (German shephards): 0.0\n"
     ]
    }
   ],
   "source": [
    "stat_pit_vs_gs, pval_pit_vs_gs = proportions_ztest([len(pit_bull_attacks), len(second_highest_attacks)], [len(bite_data_cleaned), len(bite_data_cleaned)], alternative = 'two-sided')\n",
    "print('2-proportion z-test statistic for whether pit bulls bite more often than do the second bitiest breed (German shephards): ' + str(round(stat_pit_vs_gs, 4)))\n",
    "print('2-proportion z-test p-value for whether pit bulls bite more often than do the second bitiest breed (German shephards): ' + str(round(pval_pit_vs_gs, 6)))"
   ]
  },
  {
   "cell_type": "markdown",
   "metadata": {},
   "source": [
    "Finally, we run a 2-proportion z-test to check if the percentages of the two highest breeds, pit bulls and German Shepherds, are different, with the same significance level of .01. With a p-value of nearly 0, we find that the percentage for pit bulls is indeed significantly higher than that of the breed with the second-highest percentage, and therefore all other breeds."
   ]
  },
  {
   "cell_type": "markdown",
   "metadata": {},
   "source": [
    "__Question #2__: Do pit bulls attack the head significantly more often than other breeds, suggesting they are more deliberate in their aggression?"
   ]
  },
  {
   "cell_type": "code",
   "execution_count": 70,
   "metadata": {},
   "outputs": [
    {
     "name": "stdout",
     "output_type": "stream",
     "text": [
      "Proportion of pit bull bites that were on the head: 0.156\n",
      "Proportion of pit bull bites that were NOT on the head: 0.844\n",
      "Proportion of other breed bites that were on the head: 0.2312\n"
     ]
    }
   ],
   "source": [
    "pit_bull_attacks_head = pit_bull_attacks[pit_bull_attacks['WhereBittenIDDesc'] == 'HEAD']\n",
    "\n",
    "other_breed_attacks = bite_data_cleaned[bite_data_cleaned['BreedIDDesc'] != 'PIT BULL']\n",
    "other_breed_attacks_head = other_breed_attacks[other_breed_attacks['WhereBittenIDDesc'] == 'HEAD']\n",
    "\n",
    "print('Proportion of pit bull bites that were on the head: ' + str(round(len(pit_bull_attacks_head) / len(pit_bull_attacks), 4)))\n",
    "print('Proportion of pit bull bites that were NOT on the head: ' + str(1 - round(len(pit_bull_attacks_head) / len(pit_bull_attacks), 4)))\n",
    "print('Proportion of other breed bites that were on the head: ' + str(round(len(other_breed_attacks_head) / len(other_breed_attacks), 4)))"
   ]
  },
  {
   "cell_type": "code",
   "execution_count": 83,
   "metadata": {},
   "outputs": [
    {
     "name": "stdout",
     "output_type": "stream",
     "text": [
      "2-proportion z-test statistic for whether the proportion of pit bull bites on the head differs from that of other breed bites on the head: -4.2396\n",
      "2-proportion z-test p-value for whether the proportion of pit bull bites on the head differs from that of other breed bites on the head: 2.2e-05\n"
     ]
    }
   ],
   "source": [
    "stat_head, pval_head = proportions_ztest([len(pit_bull_attacks_head), len(other_breed_attacks_head)], [len(pit_bull_attacks), len(other_breed_attacks)], alternative = 'two-sided')\n",
    "print('2-proportion z-test statistic for whether the proportion of pit bull bites on the head differs from that of other breed bites on the head: ' + str(round(stat_head, 4)))\n",
    "print('2-proportion z-test p-value for whether the proportion of pit bull bites on the head differs from that of other breed bites on the head: ' + str(round(pval_head, 6)))"
   ]
  },
  {
   "cell_type": "markdown",
   "metadata": {},
   "source": [
    "Here we get some interesting results. The flat percentage of attacks to the head out of all pit bull attacks is 15.6%, but the percentage for all other breeds combined is 23.1%, meaning that not only are pit bull bites to the head _not_ significantly higher than those from other breeds, but also they occur _less_ often. The subsequent 2-proportion z-test allows us to conclude that, assuming a significance of .01, the difference is in fact significant, and therefore the percentage of pit bull attacks to the head is significantly _lower_ than those from other breeds. "
   ]
  },
  {
   "cell_type": "markdown",
   "metadata": {},
   "source": [
    "__Question #3__: Do pit bull males attack more often than females, and do they attack more often than males of other breeds?"
   ]
  },
  {
   "cell_type": "code",
   "execution_count": 71,
   "metadata": {},
   "outputs": [
    {
     "name": "stdout",
     "output_type": "stream",
     "text": [
      "Proportion of pit bull bites that were from males: 0.6431\n",
      "Proportion of pit bull bites that were NOT from males: 0.3569\n",
      "Proportion of other breed bites that were from males: 0.7007\n"
     ]
    }
   ],
   "source": [
    "pit_bull_attacks_male = pit_bull_attacks[pit_bull_attacks['GenderIDDesc'] == 'MALE']\n",
    "\n",
    "other_breed_attacks_male = other_breed_attacks[other_breed_attacks['GenderIDDesc'] == 'MALE']\n",
    "\n",
    "print('Proportion of pit bull bites that were from males: ' + str(round(len(pit_bull_attacks_male) / len(pit_bull_attacks), 4)))\n",
    "print('Proportion of pit bull bites that were NOT from males: ' + str(1 - round(len(pit_bull_attacks_male) / len(pit_bull_attacks), 4)))\n",
    "print('Proportion of other breed bites that were from males: ' + str(round(len(other_breed_attacks_male) / len(other_breed_attacks), 4)))"
   ]
  },
  {
   "cell_type": "code",
   "execution_count": 84,
   "metadata": {},
   "outputs": [
    {
     "name": "stdout",
     "output_type": "stream",
     "text": [
      "2-proportion z-test statistic for whether the proportion of pit bull bites from males differs from that of other breed bites from males: -2.843\n",
      "2-proportion z-test p-value for whether the proportion of pit bull bites from males differs from that of other breed bites from males: 0.004469\n"
     ]
    }
   ],
   "source": [
    "stat_male, pval_male = proportions_ztest([len(pit_bull_attacks_male), len(other_breed_attacks_male)], [len(pit_bull_attacks), len(other_breed_attacks)], alternative = 'two-sided')\n",
    "print('2-proportion z-test statistic for whether the proportion of pit bull bites from males differs from that of other breed bites from males: ' + str(round(stat_male, 4)))\n",
    "print('2-proportion z-test p-value for whether the proportion of pit bull bites from males differs from that of other breed bites from males: ' + str(round(pval_male, 6)))"
   ]
  },
  {
   "cell_type": "markdown",
   "metadata": {},
   "source": [
    "We once again get some interesting results. The flat percentage of pit bull attacks from males is 64.3%, so they clearly attack more often than females. However, the flat percentage of attacks done by males of other breeds is 70.1%, again higher than that of pit bulls and the opposite trend of what the question expected. The subsequent 2-proportion z-test allows us to conclude that, assuming a significance level of .01, the difference is in fact significant, and therefore the percentage of pit bull attacks from males is significantly _lower_ than those from males of other breeds. "
   ]
  },
  {
   "cell_type": "markdown",
   "metadata": {},
   "source": [
    "## Conclusion<a id='Conclusion'></a>"
   ]
  },
  {
   "cell_type": "markdown",
   "metadata": {},
   "source": [
    "__(Potential) takeaways__:\n",
    "\n",
    " - Overall, pit bulls seem to attack significantly more often than other breeds. This supports what is commonly said about pit bulls.\n",
    " - Pit bulls do not necessarily attack the head significantly more often, and certainly not more often than other breeds. Pit bull males also do not attack significantly more often than males of other breeds. This may suggest that breed is the main determininant of whether the dog attacks, and is not correlated with or amplified by other traits.\n",
    " - Pit bull males in fact attack significantly less often than males of other breeds. But this also means that pit bull females attack significantly more often than females of other breeds. This further supports the previous point."
   ]
  },
  {
   "cell_type": "markdown",
   "metadata": {},
   "source": [
    "__(Potential) next steps__:\n",
    "\n",
    " - Obtain more records that don't have missing data in the features we deemed important. Nearly 75% of the records were cut because at least one of their features was missing data.\n",
    " - Obtain more records that have data on rabies test results, including positive results. It was determined too difficult to use this data to find correlation with rabies because there were too few records with a test result of either kind. This could have led to a much more in-depth analysis of pit bull aggression or the exploration of a number of other topics.\n",
    " - Obtain more features relevant to the attacks if possible. Once again, this could allow for a more in-depth analysis of pit bull aggression, since we could potentially apply regression analysis instead of simply analyzing proportions in single fields."
   ]
  }
 ],
 "metadata": {
  "kernelspec": {
   "display_name": "Python 3.9.12 ('base')",
   "language": "python",
   "name": "python3"
  },
  "language_info": {
   "codemirror_mode": {
    "name": "ipython",
    "version": 3
   },
   "file_extension": ".py",
   "mimetype": "text/x-python",
   "name": "python",
   "nbconvert_exporter": "python",
   "pygments_lexer": "ipython3",
   "version": "3.9.12"
  },
  "orig_nbformat": 4,
  "vscode": {
   "interpreter": {
    "hash": "6f7ae4fa7fe1853070931010f42bd72210906608cc7112802f83120d4caaca32"
   }
  }
 },
 "nbformat": 4,
 "nbformat_minor": 2
}
